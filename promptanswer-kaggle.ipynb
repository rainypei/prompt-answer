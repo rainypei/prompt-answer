{
 "cells": [
  {
   "cell_type": "code",
   "execution_count": 2,
   "metadata": {
    "_cell_guid": "b1076dfc-b9ad-4769-8c92-a6c4dae69d19",
    "_uuid": "8f2839f25d086af736a60e9eeb907d3b93b6e0e5",
    "execution": {
     "iopub.execute_input": "2025-07-06T13:30:09.917608Z",
     "iopub.status.busy": "2025-07-06T13:30:09.916658Z",
     "iopub.status.idle": "2025-07-06T13:30:09.979368Z",
     "shell.execute_reply": "2025-07-06T13:30:09.978258Z",
     "shell.execute_reply.started": "2025-07-06T13:30:09.917560Z"
    },
    "trusted": true
   },
   "outputs": [
    {
     "name": "stdout",
     "output_type": "stream",
     "text": [
      "/kaggle/input/house-prices-prediction-using-tfdf/__results__.html\n",
      "/kaggle/input/house-prices-prediction-using-tfdf/submission.csv\n",
      "/kaggle/input/house-prices-prediction-using-tfdf/__notebook__.ipynb\n",
      "/kaggle/input/house-prices-prediction-using-tfdf/__output__.json\n",
      "/kaggle/input/house-prices-prediction-using-tfdf/custom.css\n",
      "/kaggle/input/house-prices-prediction-using-tfdf/__results___files/__results___39_0.png\n",
      "/kaggle/input/house-prices-prediction-using-tfdf/__results___files/__results___20_0.png\n",
      "/kaggle/input/house-prices-prediction-using-tfdf/__results___files/__results___15_2.png\n",
      "/kaggle/input/house-prices-prediction-using-tfdf/__results___files/__results___49_0.png\n",
      "/kaggle/input/promt-score-csv/promt-score.csv\n"
     ]
    }
   ],
   "source": [
    "# This Python 3 environment comes with many helpful analytics libraries installed\n",
    "# It is defined by the kaggle/python Docker image: https://github.com/kaggle/docker-python\n",
    "# For example, here's several helpful packages to load\n",
    "\n",
    "import numpy as np # linear algebra\n",
    "import pandas as pd # data processing, CSV file I/O (e.g. pd.read_csv)\n",
    "\n",
    "# Input data files are available in the read-only \"../input/\" directory\n",
    "# For example, running this (by clicking run or pressing Shift+Enter) will list all files under the input directory\n",
    "\n",
    "import os\n",
    "for dirname, _, filenames in os.walk('/kaggle/input'):\n",
    "    for filename in filenames:\n",
    "        print(os.path.join(dirname, filename))\n",
    "\n",
    "# You can write up to 20GB to the current directory (/kaggle/working/) that gets preserved as output when you create a version using \"Save & Run All\" \n",
    "# You can also write temporary files to /kaggle/temp/, but they won't be saved outside of the current session"
   ]
  },
  {
   "cell_type": "code",
   "execution_count": 10,
   "metadata": {
    "execution": {
     "iopub.execute_input": "2025-07-06T14:15:48.004624Z",
     "iopub.status.busy": "2025-07-06T14:15:48.004008Z",
     "iopub.status.idle": "2025-07-06T14:15:48.091351Z",
     "shell.execute_reply": "2025-07-06T14:15:48.090707Z",
     "shell.execute_reply.started": "2025-07-06T14:15:48.004599Z"
    },
    "trusted": true
   },
   "outputs": [],
   "source": [
    "import pandas as pd\n",
    "\n",
    "# 读取数据（假设已转为CSV）\n",
    "df = pd.read_csv('/kaggle/input/promt-score-csv/prompt-score.csv', sep=',', encoding='gbk')  # 或直接读取Excel\n",
    "prompts = df[\"User Prompt\"].tolist()"
   ]
  },
  {
   "cell_type": "code",
   "execution_count": 1,
   "metadata": {
    "execution": {
     "iopub.execute_input": "2025-07-06T14:10:36.833275Z",
     "iopub.status.busy": "2025-07-06T14:10:36.832558Z",
     "iopub.status.idle": "2025-07-06T14:10:37.072024Z",
     "shell.execute_reply": "2025-07-06T14:10:37.071048Z",
     "shell.execute_reply.started": "2025-07-06T14:10:36.833238Z"
    },
    "trusted": true
   },
   "outputs": [
    {
     "name": "stdout",
     "output_type": "stream",
     "text": [
      "Sun Jul  6 14:10:36 2025       \n",
      "+-----------------------------------------------------------------------------------------+\n",
      "| NVIDIA-SMI 560.35.03              Driver Version: 560.35.03      CUDA Version: 12.6     |\n",
      "|-----------------------------------------+------------------------+----------------------+\n",
      "| GPU  Name                 Persistence-M | Bus-Id          Disp.A | Volatile Uncorr. ECC |\n",
      "| Fan  Temp   Perf          Pwr:Usage/Cap |           Memory-Usage | GPU-Util  Compute M. |\n",
      "|                                         |                        |               MIG M. |\n",
      "|=========================================+========================+======================|\n",
      "|   0  Tesla T4                       Off |   00000000:00:04.0 Off |                    0 |\n",
      "| N/A   40C    P8              9W /   70W |       1MiB /  15360MiB |      0%      Default |\n",
      "|                                         |                        |                  N/A |\n",
      "+-----------------------------------------+------------------------+----------------------+\n",
      "|   1  Tesla T4                       Off |   00000000:00:05.0 Off |                    0 |\n",
      "| N/A   43C    P8              9W /   70W |       1MiB /  15360MiB |      0%      Default |\n",
      "|                                         |                        |                  N/A |\n",
      "+-----------------------------------------+------------------------+----------------------+\n",
      "                                                                                         \n",
      "+-----------------------------------------------------------------------------------------+\n",
      "| Processes:                                                                              |\n",
      "|  GPU   GI   CI        PID   Type   Process name                              GPU Memory |\n",
      "|        ID   ID                                                               Usage      |\n",
      "|=========================================================================================|\n",
      "|  No running processes found                                                             |\n",
      "+-----------------------------------------------------------------------------------------+\n"
     ]
    }
   ],
   "source": [
    "!nvidia-smi"
   ]
  },
  {
   "cell_type": "code",
   "execution_count": 2,
   "metadata": {
    "execution": {
     "iopub.execute_input": "2025-07-06T14:10:52.519834Z",
     "iopub.status.busy": "2025-07-06T14:10:52.519058Z",
     "iopub.status.idle": "2025-07-06T14:13:03.871068Z",
     "shell.execute_reply": "2025-07-06T14:13:03.870269Z",
     "shell.execute_reply.started": "2025-07-06T14:10:52.519779Z"
    },
    "trusted": true
   },
   "outputs": [
    {
     "data": {
      "application/vnd.jupyter.widget-view+json": {
       "model_id": "5dc535621d5a4245bed02a3c573a1b2c",
       "version_major": 2,
       "version_minor": 0
      },
      "text/plain": [
       "config.json:   0%|          | 0.00/584 [00:00<?, ?B/s]"
      ]
     },
     "metadata": {},
     "output_type": "display_data"
    },
    {
     "name": "stderr",
     "output_type": "stream",
     "text": [
      "2025-07-06 14:11:15.277720: E external/local_xla/xla/stream_executor/cuda/cuda_fft.cc:477] Unable to register cuFFT factory: Attempting to register factory for plugin cuFFT when one has already been registered\n",
      "WARNING: All log messages before absl::InitializeLog() is called are written to STDERR\n",
      "E0000 00:00:1751811075.671045      35 cuda_dnn.cc:8310] Unable to register cuDNN factory: Attempting to register factory for plugin cuDNN when one has already been registered\n",
      "E0000 00:00:1751811075.781164      35 cuda_blas.cc:1418] Unable to register cuBLAS factory: Attempting to register factory for plugin cuBLAS when one has already been registered\n"
     ]
    },
    {
     "data": {
      "application/vnd.jupyter.widget-view+json": {
       "model_id": "63af64f4affb45af88c501bc4ccb0719",
       "version_major": 2,
       "version_minor": 0
      },
      "text/plain": [
       "pytorch_model.bin.index.json: 0.00B [00:00, ?B/s]"
      ]
     },
     "metadata": {},
     "output_type": "display_data"
    },
    {
     "data": {
      "application/vnd.jupyter.widget-view+json": {
       "model_id": "bd5ec7dfd8a340c2be761d738ae083e8",
       "version_major": 2,
       "version_minor": 0
      },
      "text/plain": [
       "Fetching 2 files:   0%|          | 0/2 [00:00<?, ?it/s]"
      ]
     },
     "metadata": {},
     "output_type": "display_data"
    },
    {
     "data": {
      "application/vnd.jupyter.widget-view+json": {
       "model_id": "ee2d0f94add64952a5f4fa4bdda1b1ba",
       "version_major": 2,
       "version_minor": 0
      },
      "text/plain": [
       "pytorch_model-00002-of-00002.bin:   0%|          | 0.00/3.85G [00:00<?, ?B/s]"
      ]
     },
     "metadata": {},
     "output_type": "display_data"
    },
    {
     "data": {
      "application/vnd.jupyter.widget-view+json": {
       "model_id": "5aa095f2f518438bb817f4723d27baa3",
       "version_major": 2,
       "version_minor": 0
      },
      "text/plain": [
       "pytorch_model-00001-of-00002.bin:   0%|          | 0.00/9.97G [00:00<?, ?B/s]"
      ]
     },
     "metadata": {},
     "output_type": "display_data"
    },
    {
     "data": {
      "application/vnd.jupyter.widget-view+json": {
       "model_id": "2328df7e68dd4c7f919c7e9029880072",
       "version_major": 2,
       "version_minor": 0
      },
      "text/plain": [
       "model.safetensors.index.json: 0.00B [00:00, ?B/s]"
      ]
     },
     "metadata": {},
     "output_type": "display_data"
    },
    {
     "data": {
      "application/vnd.jupyter.widget-view+json": {
       "model_id": "81f4e2e34a094f7aac48731ba9707fac",
       "version_major": 2,
       "version_minor": 0
      },
      "text/plain": [
       "Loading checkpoint shards:   0%|          | 0/2 [00:00<?, ?it/s]"
      ]
     },
     "metadata": {},
     "output_type": "display_data"
    },
    {
     "data": {
      "application/vnd.jupyter.widget-view+json": {
       "model_id": "45e4abbe48894249ba3d9e7b81b780f3",
       "version_major": 2,
       "version_minor": 0
      },
      "text/plain": [
       "generation_config.json:   0%|          | 0.00/121 [00:00<?, ?B/s]"
      ]
     },
     "metadata": {},
     "output_type": "display_data"
    },
    {
     "data": {
      "application/vnd.jupyter.widget-view+json": {
       "model_id": "42503f7beb8b4fa6895ccdf6bc10814f",
       "version_major": 2,
       "version_minor": 0
      },
      "text/plain": [
       "tokenizer_config.json:   0%|          | 0.00/792 [00:00<?, ?B/s]"
      ]
     },
     "metadata": {},
     "output_type": "display_data"
    },
    {
     "data": {
      "application/vnd.jupyter.widget-view+json": {
       "model_id": "d46493fc710f42afa0e82ba1e89013f5",
       "version_major": 2,
       "version_minor": 0
      },
      "text/plain": [
       "tokenizer.json: 0.00B [00:00, ?B/s]"
      ]
     },
     "metadata": {},
     "output_type": "display_data"
    },
    {
     "name": "stderr",
     "output_type": "stream",
     "text": [
      "Setting `pad_token_id` to `eos_token_id`:100001 for open-end generation.\n"
     ]
    },
    {
     "name": "stdout",
     "output_type": "stream",
     "text": [
      "你好！欢迎访问西安思源学院教务处网站\n",
      "2019年12月10日 16:30 教务处 点击：[]\n",
      "各二级学院、各相关单位：\n",
      "根据学校教学工作安排，现将2019年12月16日-2020年1月10日期间校内考试安排如下：\n",
      "一、考试安排\n",
      "1.考试时间：2019年1\n"
     ]
    }
   ],
   "source": [
    "from transformers import AutoModelForCausalLM, AutoTokenizer\n",
    "\n",
    "# 加载7B轻量版（适合Kaggle T4 GPU）\n",
    "model = AutoModelForCausalLM.from_pretrained(\"deepseek-ai/deepseek-llm-7b-base\", device_map=\"auto\")\n",
    "tokenizer = AutoTokenizer.from_pretrained(\"deepseek-ai/deepseek-llm-7b-base\")\n",
    "\n",
    "def get_deepseek_response(prompt):\n",
    "    inputs = tokenizer(prompt, return_tensors=\"pt\").to(\"cuda\")\n",
    "    outputs = model.generate(**inputs, max_new_tokens=100)\n",
    "    return tokenizer.decode(outputs[0], skip_special_tokens=True)\n",
    "\n",
    "# 测试调用\n",
    "print(get_deepseek_response(\"你好！\"))"
   ]
  },
  {
   "cell_type": "code",
   "execution_count": 7,
   "metadata": {
    "execution": {
     "iopub.execute_input": "2025-07-06T14:15:11.955415Z",
     "iopub.status.busy": "2025-07-06T14:15:11.954677Z",
     "iopub.status.idle": "2025-07-06T14:15:17.801842Z",
     "shell.execute_reply": "2025-07-06T14:15:17.801044Z",
     "shell.execute_reply.started": "2025-07-06T14:15:11.955391Z"
    },
    "trusted": true
   },
   "outputs": [
    {
     "name": "stderr",
     "output_type": "stream",
     "text": [
      "huggingface/tokenizers: The current process just got forked, after parallelism has already been used. Disabling parallelism to avoid deadlocks...\n",
      "To disable this warning, you can either:\n",
      "\t- Avoid using `tokenizers` before the fork if possible\n",
      "\t- Explicitly set the environment variable TOKENIZERS_PARALLELISM=(true | false)\n"
     ]
    },
    {
     "name": "stdout",
     "output_type": "stream",
     "text": [
      "Collecting dashscope\n",
      "  Downloading dashscope-1.23.7-py3-none-any.whl.metadata (7.1 kB)\n",
      "Requirement already satisfied: aiohttp in /usr/local/lib/python3.11/dist-packages (from dashscope) (3.11.18)\n",
      "Requirement already satisfied: requests in /usr/local/lib/python3.11/dist-packages (from dashscope) (2.32.3)\n",
      "Requirement already satisfied: websocket-client in /usr/local/lib/python3.11/dist-packages (from dashscope) (1.8.0)\n",
      "Requirement already satisfied: cryptography in /usr/local/lib/python3.11/dist-packages (from dashscope) (44.0.3)\n",
      "Requirement already satisfied: aiohappyeyeballs>=2.3.0 in /usr/local/lib/python3.11/dist-packages (from aiohttp->dashscope) (2.6.1)\n",
      "Requirement already satisfied: aiosignal>=1.1.2 in /usr/local/lib/python3.11/dist-packages (from aiohttp->dashscope) (1.3.2)\n",
      "Requirement already satisfied: attrs>=17.3.0 in /usr/local/lib/python3.11/dist-packages (from aiohttp->dashscope) (25.3.0)\n",
      "Requirement already satisfied: frozenlist>=1.1.1 in /usr/local/lib/python3.11/dist-packages (from aiohttp->dashscope) (1.6.0)\n",
      "Requirement already satisfied: multidict<7.0,>=4.5 in /usr/local/lib/python3.11/dist-packages (from aiohttp->dashscope) (6.4.3)\n",
      "Requirement already satisfied: propcache>=0.2.0 in /usr/local/lib/python3.11/dist-packages (from aiohttp->dashscope) (0.3.1)\n",
      "Requirement already satisfied: yarl<2.0,>=1.17.0 in /usr/local/lib/python3.11/dist-packages (from aiohttp->dashscope) (1.20.0)\n",
      "Requirement already satisfied: cffi>=1.12 in /usr/local/lib/python3.11/dist-packages (from cryptography->dashscope) (1.17.1)\n",
      "Requirement already satisfied: charset-normalizer<4,>=2 in /usr/local/lib/python3.11/dist-packages (from requests->dashscope) (3.4.2)\n",
      "Requirement already satisfied: idna<4,>=2.5 in /usr/local/lib/python3.11/dist-packages (from requests->dashscope) (3.10)\n",
      "Requirement already satisfied: urllib3<3,>=1.21.1 in /usr/local/lib/python3.11/dist-packages (from requests->dashscope) (2.4.0)\n",
      "Requirement already satisfied: certifi>=2017.4.17 in /usr/local/lib/python3.11/dist-packages (from requests->dashscope) (2025.4.26)\n",
      "Requirement already satisfied: pycparser in /usr/local/lib/python3.11/dist-packages (from cffi>=1.12->cryptography->dashscope) (2.22)\n",
      "Downloading dashscope-1.23.7-py3-none-any.whl (1.3 MB)\n",
      "\u001b[2K   \u001b[90m━━━━━━━━━━━━━━━━━━━━━━━━━━━━━━━━━━━━━━━━\u001b[0m \u001b[32m1.3/1.3 MB\u001b[0m \u001b[31m16.7 MB/s\u001b[0m eta \u001b[36m0:00:00\u001b[0m00:01\u001b[0m0:01\u001b[0m\n",
      "\u001b[?25hInstalling collected packages: dashscope\n",
      "Successfully installed dashscope-1.23.7\n",
      "Note: you may need to restart the kernel to use updated packages.\n"
     ]
    }
   ],
   "source": [
    "pip install dashscope"
   ]
  },
  {
   "cell_type": "code",
   "execution_count": null,
   "metadata": {
    "execution": {
     "iopub.execute_input": "2025-07-06T14:17:41.514917Z",
     "iopub.status.busy": "2025-07-06T14:17:41.514307Z",
     "iopub.status.idle": "2025-07-06T14:17:41.520469Z",
     "shell.execute_reply": "2025-07-06T14:17:41.519862Z",
     "shell.execute_reply.started": "2025-07-06T14:17:41.514888Z"
    },
    "trusted": true
   },
   "outputs": [],
   "source": [
    "import os\n",
    "import dashscope\n",
    "from dashscope import Generation  # 需要添加这行导入\n",
    "# 设置千问API Key（免费申请：https://help.aliyun.com/zh/dashscope/）\n",
    "dashscope.api_key = os.getenv(\"DASHSCOPE_API_KEY\") or \"your qwen key\"  # 建议用Kaggle Secrets存储\n",
    "def score_with_qwen(prompt, answer):\n",
    "    \"\"\"使用千问模型进行评分\"\"\"\n",
    "    system_prompt = \"\"\"你是一个专业评分员，根据回答的准确性和相关性评分（1-10分）：\n",
    "    评分标准：\n",
    "    - 10分：完全准确且完整\n",
    "    - 8分：基本正确，小瑕疵\n",
    "    - 5分：部分正确但有问题\n",
    "    - 2分：无关或错误\n",
    "    只需返回数字，不要解释。\"\"\"\n",
    "    \n",
    "    try:\n",
    "        response = Generation.call(\n",
    "            model=\"qwen-max\",\n",
    "            messages=[\n",
    "                {\"role\": \"system\", \"content\": system_prompt},\n",
    "                {\"role\": \"user\", \"content\": f\"问题：{prompt}\\n回答：{answer}\"}\n",
    "            ],\n",
    "            result_format='message'  # 获取结构化响应\n",
    "        )\n",
    "        return int(response.output.choices[0].message.content.strip())\n",
    "    except Exception as e:\n",
    "        print(f\"千问评分失败: {e}\")\n",
    "        return 0"
   ]
  },
  {
   "cell_type": "code",
   "execution_count": 14,
   "metadata": {
    "execution": {
     "iopub.execute_input": "2025-07-06T14:17:45.044739Z",
     "iopub.status.busy": "2025-07-06T14:17:45.044119Z",
     "iopub.status.idle": "2025-07-06T14:18:20.740270Z",
     "shell.execute_reply": "2025-07-06T14:18:20.739539Z",
     "shell.execute_reply.started": "2025-07-06T14:17:45.044715Z"
    },
    "trusted": true
   },
   "outputs": [
    {
     "name": "stderr",
     "output_type": "stream",
     "text": [
      "Setting `pad_token_id` to `eos_token_id`:100001 for open-end generation.\n",
      "Setting `pad_token_id` to `eos_token_id`:100001 for open-end generation.\n",
      "Setting `pad_token_id` to `eos_token_id`:100001 for open-end generation.\n"
     ]
    },
    {
     "name": "stdout",
     "output_type": "stream",
     "text": [
      "高分（≥8分）占比：0.00%\n"
     ]
    }
   ],
   "source": [
    "results = []\n",
    "for prompt in prompts:\n",
    "    try:\n",
    "        answer = get_deepseek_response(prompt)\n",
    "        score = score_with_qwen(prompt, answer)\n",
    "        results.append({\n",
    "            \"Prompt\": prompt,\n",
    "            \"Answer\": answer,\n",
    "            \"Score\": score\n",
    "        })\n",
    "    except Exception as e:\n",
    "        print(f\"处理失败：{prompt}\\n错误：{e}\")\n",
    "        results.append({\"Prompt\": prompt, \"Answer\": \"ERROR\", \"Score\": -1})\n",
    "\n",
    "# 转为DataFrame并保存\n",
    "result_df = pd.DataFrame(results)\n",
    "result_df.to_csv(\"evaluation_results.csv\", index=False)\n",
    "\n",
    "# 计算高分占比\n",
    "high_score_ratio = (result_df[\"Score\"] >= 8).mean()\n",
    "print(f\"高分（≥8分）占比：{high_score_ratio:.2%}\")"
   ]
  },
  {
   "cell_type": "code",
   "execution_count": 15,
   "metadata": {
    "execution": {
     "iopub.execute_input": "2025-07-06T14:18:31.323710Z",
     "iopub.status.busy": "2025-07-06T14:18:31.323448Z",
     "iopub.status.idle": "2025-07-06T14:18:31.345786Z",
     "shell.execute_reply": "2025-07-06T14:18:31.345167Z",
     "shell.execute_reply.started": "2025-07-06T14:18:31.323694Z"
    },
    "trusted": true
   },
   "outputs": [
    {
     "data": {
      "text/html": [
       "<div>\n",
       "<style scoped>\n",
       "    .dataframe tbody tr th:only-of-type {\n",
       "        vertical-align: middle;\n",
       "    }\n",
       "\n",
       "    .dataframe tbody tr th {\n",
       "        vertical-align: top;\n",
       "    }\n",
       "\n",
       "    .dataframe thead th {\n",
       "        text-align: right;\n",
       "    }\n",
       "</style>\n",
       "<table border=\"1\" class=\"dataframe\">\n",
       "  <thead>\n",
       "    <tr style=\"text-align: right;\">\n",
       "      <th></th>\n",
       "      <th>Prompt</th>\n",
       "      <th>Answer</th>\n",
       "      <th>Score</th>\n",
       "    </tr>\n",
       "  </thead>\n",
       "  <tbody>\n",
       "    <tr>\n",
       "      <th>0</th>\n",
       "      <td>感觉价格方面，Switch性价比搞，PS5要贵不少吧？</td>\n",
       "      <td>感觉价格方面，Switch性价比搞，PS5要贵不少吧？\\nSwitch的性价比主要体现在游戏...</td>\n",
       "      <td>2</td>\n",
       "    </tr>\n",
       "    <tr>\n",
       "      <th>1</th>\n",
       "      <td>XBOX的价格和PS5的价格差不多吧？</td>\n",
       "      <td>XBOX的价格和PS5的价格差不多吧？\\nPS5的价格是499美元，XBOX的价格是499英...</td>\n",
       "      <td>5</td>\n",
       "    </tr>\n",
       "    <tr>\n",
       "      <th>2</th>\n",
       "      <td>这个价格我都能买台不错的台式机了。</td>\n",
       "      <td>这个价格我都能买台不错的台式机了。\\n1000块的笔记本，你想要什么？\\n1000块的笔记本...</td>\n",
       "      <td>2</td>\n",
       "    </tr>\n",
       "  </tbody>\n",
       "</table>\n",
       "</div>"
      ],
      "text/plain": [
       "                        Prompt  \\\n",
       "0  感觉价格方面，Switch性价比搞，PS5要贵不少吧？   \n",
       "1          XBOX的价格和PS5的价格差不多吧？   \n",
       "2            这个价格我都能买台不错的台式机了。   \n",
       "\n",
       "                                              Answer  Score  \n",
       "0  感觉价格方面，Switch性价比搞，PS5要贵不少吧？\\nSwitch的性价比主要体现在游戏...      2  \n",
       "1  XBOX的价格和PS5的价格差不多吧？\\nPS5的价格是499美元，XBOX的价格是499英...      5  \n",
       "2  这个价格我都能买台不错的台式机了。\\n1000块的笔记本，你想要什么？\\n1000块的笔记本...      2  "
      ]
     },
     "execution_count": 15,
     "metadata": {},
     "output_type": "execute_result"
    }
   ],
   "source": [
    "result_df"
   ]
  },
  {
   "cell_type": "code",
   "execution_count": 16,
   "metadata": {
    "execution": {
     "iopub.execute_input": "2025-07-06T14:18:48.563933Z",
     "iopub.status.busy": "2025-07-06T14:18:48.563206Z",
     "iopub.status.idle": "2025-07-06T14:18:48.900875Z",
     "shell.execute_reply": "2025-07-06T14:18:48.900151Z",
     "shell.execute_reply.started": "2025-07-06T14:18:48.563906Z"
    },
    "trusted": true
   },
   "outputs": [
    {
     "name": "stderr",
     "output_type": "stream",
     "text": [
      "/usr/local/lib/python3.11/dist-packages/IPython/core/pylabtools.py:151: UserWarning: Glyph 25968 (\\N{CJK UNIFIED IDEOGRAPH-6570}) missing from current font.\n",
      "  fig.canvas.print_figure(bytes_io, **kw)\n",
      "/usr/local/lib/python3.11/dist-packages/IPython/core/pylabtools.py:151: UserWarning: Glyph 37327 (\\N{CJK UNIFIED IDEOGRAPH-91CF}) missing from current font.\n",
      "  fig.canvas.print_figure(bytes_io, **kw)\n",
      "/usr/local/lib/python3.11/dist-packages/IPython/core/pylabtools.py:151: UserWarning: Glyph 22238 (\\N{CJK UNIFIED IDEOGRAPH-56DE}) missing from current font.\n",
      "  fig.canvas.print_figure(bytes_io, **kw)\n",
      "/usr/local/lib/python3.11/dist-packages/IPython/core/pylabtools.py:151: UserWarning: Glyph 31572 (\\N{CJK UNIFIED IDEOGRAPH-7B54}) missing from current font.\n",
      "  fig.canvas.print_figure(bytes_io, **kw)\n",
      "/usr/local/lib/python3.11/dist-packages/IPython/core/pylabtools.py:151: UserWarning: Glyph 36136 (\\N{CJK UNIFIED IDEOGRAPH-8D28}) missing from current font.\n",
      "  fig.canvas.print_figure(bytes_io, **kw)\n",
      "/usr/local/lib/python3.11/dist-packages/IPython/core/pylabtools.py:151: UserWarning: Glyph 20998 (\\N{CJK UNIFIED IDEOGRAPH-5206}) missing from current font.\n",
      "  fig.canvas.print_figure(bytes_io, **kw)\n",
      "/usr/local/lib/python3.11/dist-packages/IPython/core/pylabtools.py:151: UserWarning: Glyph 24067 (\\N{CJK UNIFIED IDEOGRAPH-5E03}) missing from current font.\n",
      "  fig.canvas.print_figure(bytes_io, **kw)\n"
     ]
    },
    {
     "data": {
      "image/png": "[encoded data removed]",
      "text/plain": [
       "<Figure size 640x480 with 1 Axes>"
      ]
     },
     "metadata": {},
     "output_type": "display_data"
    }
   ],
   "source": [
    "import matplotlib.pyplot as plt\n",
    "\n",
    "plt.hist(result_df[\"Score\"], bins=range(1, 12), align='left', rwidth=0.8)\n",
    "plt.xticks(range(1, 11))\n",
    "plt.xlabel(\"分数\")\n",
    "plt.ylabel(\"数量\")\n",
    "plt.title(\"DeepSeek 回答质量分布\")\n",
    "plt.show()"
   ]
  },
  {
   "cell_type": "code",
   "execution_count": null,
   "metadata": {
    "trusted": true
   },
   "outputs": [],
   "source": []
  }
 ],
 "metadata": {
  "kaggle": {
   "accelerator": "nvidiaTeslaT4",
   "dataSources": [
    {
     "datasetId": 7806916,
     "sourceId": 12381128,
     "sourceType": "datasetVersion"
    },
    {
     "sourceId": 245078854,
     "sourceType": "kernelVersion"
    }
   ],
   "dockerImageVersionId": 31040,
   "isGpuEnabled": true,
   "isInternetEnabled": true,
   "language": "python",
   "sourceType": "notebook"
  },
  "kernelspec": {
   "display_name": "Python 3",
   "language": "python",
   "name": "python3"
  },
  "language_info": {
   "codemirror_mode": {
    "name": "ipython",
    "version": 3
   },
   "file_extension": ".py",
   "mimetype": "text/x-python",
   "name": "python",
   "nbconvert_exporter": "python",
   "pygments_lexer": "ipython3",
   "version": "3.11.11"
  }
 },
 "nbformat": 4,
 "nbformat_minor": 4
}
